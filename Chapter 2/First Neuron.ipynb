{
 "cells": [
  {
   "metadata": {},
   "cell_type": "markdown",
   "source": "# Coding My First Neuron",
   "id": "6b8ac8d0c287bc4d"
  },
  {
   "metadata": {
    "ExecuteTime": {
     "end_time": "2024-09-10T02:23:50.168486Z",
     "start_time": "2024-09-10T02:23:50.160340Z"
    }
   },
   "cell_type": "code",
   "source": [
    "inputs: list[int] = [1, 2, 3]\n",
    "\n",
    "print(f\"{inputs = }\")"
   ],
   "id": "6be01830617c6617",
   "outputs": [
    {
     "name": "stdout",
     "output_type": "stream",
     "text": [
      "inputs = [1, 2, 3]\n"
     ]
    }
   ],
   "execution_count": 3
  },
  {
   "metadata": {
    "ExecuteTime": {
     "end_time": "2024-09-10T02:24:08.992588Z",
     "start_time": "2024-09-10T02:24:08.987814Z"
    }
   },
   "cell_type": "code",
   "source": [
    "weights: list[float] = [0.2, 0.8, -0.5]\n",
    "\n",
    "print(f\"{weights = }\")"
   ],
   "id": "272cedacffe34380",
   "outputs": [
    {
     "name": "stdout",
     "output_type": "stream",
     "text": [
      "weights = [0.2, 0.8, -0.5]\n"
     ]
    }
   ],
   "execution_count": 5
  },
  {
   "metadata": {
    "ExecuteTime": {
     "end_time": "2024-09-10T02:24:19.342918Z",
     "start_time": "2024-09-10T02:24:19.331171Z"
    }
   },
   "cell_type": "code",
   "source": [
    "bias: int = 2\n",
    "\n",
    "print(f\"{bias = }\")"
   ],
   "id": "c672ca8a06996d5c",
   "outputs": [
    {
     "name": "stdout",
     "output_type": "stream",
     "text": [
      "bias = 2\n"
     ]
    }
   ],
   "execution_count": 6
  },
  {
   "metadata": {
    "ExecuteTime": {
     "end_time": "2024-09-10T02:25:24.153409Z",
     "start_time": "2024-09-10T02:25:24.142095Z"
    }
   },
   "cell_type": "code",
   "source": [
    "output: float = (\n",
    "    inputs[0] * weights[0] +\n",
    "    inputs[1] * weights[1] +\n",
    "    inputs[2] * weights[2] +\n",
    "    bias\n",
    ")\n",
    "\n",
    "print(f\"{output = }\")"
   ],
   "id": "fc8bbe94e1aeeaca",
   "outputs": [
    {
     "name": "stdout",
     "output_type": "stream",
     "text": [
      "output = 2.3\n"
     ]
    }
   ],
   "execution_count": 8
  },
  {
   "metadata": {},
   "cell_type": "markdown",
   "source": "## Adding a layer",
   "id": "6cfc37dcb63cf10c"
  },
  {
   "metadata": {
    "ExecuteTime": {
     "end_time": "2024-09-10T02:29:05.529005Z",
     "start_time": "2024-09-10T02:29:05.520286Z"
    }
   },
   "cell_type": "code",
   "source": [
    "inputs: list[int | float] = [1, 2, 3, 2.5]\n",
    "\n",
    "inputs"
   ],
   "id": "ef662f3da5a89b96",
   "outputs": [
    {
     "data": {
      "text/plain": [
       "[1, 2, 3, 2.5]"
      ]
     },
     "execution_count": 10,
     "metadata": {},
     "output_type": "execute_result"
    }
   ],
   "execution_count": 10
  },
  {
   "metadata": {
    "ExecuteTime": {
     "end_time": "2024-09-10T02:41:51.857286Z",
     "start_time": "2024-09-10T02:41:51.852694Z"
    }
   },
   "cell_type": "code",
   "source": [
    "weights1: list[float] = [0.2, 0.8, -0.5, 1]\n",
    "weights2: list[float] = [0.5, -0.91, 0.26, -0.5]\n",
    "weights3: list[float] = [-0.26, -0.27, 0.17, 0.87]"
   ],
   "id": "e8f53ea3cd383fb2",
   "outputs": [],
   "execution_count": 11
  },
  {
   "metadata": {
    "ExecuteTime": {
     "end_time": "2024-09-10T02:42:11.467599Z",
     "start_time": "2024-09-10T02:42:11.462989Z"
    }
   },
   "cell_type": "code",
   "source": [
    "bias1: int = 2\n",
    "bias2: int = 3\n",
    "bias3: float = 0.5"
   ],
   "id": "dd72a9daf328fed1",
   "outputs": [],
   "execution_count": 12
  },
  {
   "metadata": {
    "ExecuteTime": {
     "end_time": "2024-09-10T03:00:59.721128Z",
     "start_time": "2024-09-10T03:00:59.710661Z"
    }
   },
   "cell_type": "code",
   "source": [
    "output: tuple[float, float, float] = (\n",
    "    # Neuron 1\n",
    "    inputs[0] * weights1[0] +\n",
    "    inputs[1] * weights1[1] +\n",
    "    inputs[2] * weights1[2] +\n",
    "    inputs[3] * weights1[3] +\n",
    "    bias1,\n",
    "    \n",
    "    # Neuron 2\n",
    "    inputs[0] * weights2[0] +\n",
    "    inputs[1] * weights2[1] +\n",
    "    inputs[2] * weights2[2] +\n",
    "    inputs[3] * weights2[3] +\n",
    "    bias2,\n",
    "    \n",
    "    # Neuron 3\n",
    "    inputs[0] * weights3[0] +\n",
    "    inputs[1] * weights3[1] +\n",
    "    inputs[2] * weights3[2] +\n",
    "    inputs[3] * weights3[3] +\n",
    "    bias3\n",
    ")\n",
    "\n",
    "output"
   ],
   "id": "9f98e4c3d6678b34",
   "outputs": [
    {
     "data": {
      "text/plain": [
       "(4.8, 1.21, 2.385)"
      ]
     },
     "execution_count": 13,
     "metadata": {},
     "output_type": "execute_result"
    }
   ],
   "execution_count": 13
  },
  {
   "metadata": {
    "ExecuteTime": {
     "end_time": "2024-09-10T06:54:48.782408Z",
     "start_time": "2024-09-10T06:54:48.763346Z"
    }
   },
   "cell_type": "code",
   "source": [
    "# Using loop to simplify\n",
    "inputs: list[int | float] = [1, 2, 3, 2.5]\n",
    "\n",
    "weights: list[list[float]] = [\n",
    "    [0.2, 0.8, -0.5, 1],\n",
    "    [0.5, -0.91, 0.26, -0.5],\n",
    "    [-0.26, -0.27, 0.17, 0.87]\n",
    "]\n",
    "\n",
    "biases: list[float] = [2.0, 3.0, 0.5]\n",
    "\n",
    "model_output: list[float] = []\n",
    "\n",
    "for weight, b in zip(weights, biases):\n",
    "    neuron_output = 0\n",
    "    for i, w in zip(inputs, weight):\n",
    "        neuron_output += i * w\n",
    "    neuron_output += b\n",
    "    model_output.append(neuron_output)\n",
    "\n",
    "model_output"
   ],
   "id": "33e5f19d08366445",
   "outputs": [
    {
     "data": {
      "text/plain": [
       "[4.8, 1.21, 2.385]"
      ]
     },
     "execution_count": 5,
     "metadata": {},
     "output_type": "execute_result"
    }
   ],
   "execution_count": 5
  },
  {
   "metadata": {
    "ExecuteTime": {
     "end_time": "2024-09-10T07:11:15.773606Z",
     "start_time": "2024-09-10T07:11:15.762053Z"
    }
   },
   "cell_type": "code",
   "source": [
    "arr_3d = [\n",
    "    [\n",
    "        [1, 2, 3],\n",
    "        [4, 5, 6]\n",
    "    ],\n",
    "    [\n",
    "        [7, 8, 9],\n",
    "        [10, 11, 12]\n",
    "    ],\n",
    "    [\n",
    "        [13, 14, 15],\n",
    "        [16, 17, 18]\n",
    "    ]\n",
    "]\n",
    "\n",
    "import numpy\n",
    "\n",
    "print(numpy.array(arr_3d).shape)"
   ],
   "id": "460f8b1d29e63c84",
   "outputs": [
    {
     "name": "stdout",
     "output_type": "stream",
     "text": [
      "(3, 2, 3)\n"
     ]
    }
   ],
   "execution_count": 10
  },
  {
   "metadata": {},
   "cell_type": "markdown",
   "source": "## Using `numpy`",
   "id": "ec25dd0b14fe4b2d"
  },
  {
   "metadata": {
    "ExecuteTime": {
     "end_time": "2024-09-10T07:14:03.695725Z",
     "start_time": "2024-09-10T07:14:03.679114Z"
    }
   },
   "cell_type": "code",
   "source": [
    "import numpy as np\n",
    "\n",
    "inputs: list[float] = [1, 2, 3, 2.5]\n",
    "weights: list[float] = [0.2, 0.8, -0.5, 1]\n",
    "bias: int = 2\n",
    "\n",
    "output: float = np.dot(inputs, weights) + bias\n",
    "\n",
    "output"
   ],
   "id": "7583896e3be47070",
   "outputs": [
    {
     "data": {
      "text/plain": [
       "np.float64(4.8)"
      ]
     },
     "execution_count": 12,
     "metadata": {},
     "output_type": "execute_result"
    }
   ],
   "execution_count": 12
  },
  {
   "metadata": {
    "ExecuteTime": {
     "end_time": "2024-09-10T07:15:20.259762Z",
     "start_time": "2024-09-10T07:15:20.241202Z"
    }
   },
   "cell_type": "code",
   "source": [
    "inputs: list[int | float] = [1, 2, 3, 2.5]\n",
    "\n",
    "weights: list[list[float]] = [\n",
    "    [0.2, 0.8, -0.5, 1],\n",
    "    [0.5, -0.91, 0.26, -0.5],\n",
    "    [-0.26, -0.27, 0.17, 0.87]\n",
    "]\n",
    "\n",
    "biases: list[float] = [2.0, 3.0, 0.5]\n",
    "\n",
    "model_outputs = np.dot(weights, inputs) + biases\n",
    "\n",
    "model_outputs"
   ],
   "id": "25467083edb8c74",
   "outputs": [
    {
     "data": {
      "text/plain": [
       "array([4.8  , 1.21 , 2.385])"
      ]
     },
     "execution_count": 14,
     "metadata": {},
     "output_type": "execute_result"
    }
   ],
   "execution_count": 14
  },
  {
   "metadata": {},
   "cell_type": "code",
   "outputs": [],
   "execution_count": null,
   "source": "",
   "id": "523c79c82146514a"
  }
 ],
 "metadata": {
  "kernelspec": {
   "display_name": "Python 3",
   "language": "python",
   "name": "python3"
  },
  "language_info": {
   "codemirror_mode": {
    "name": "ipython",
    "version": 2
   },
   "file_extension": ".py",
   "mimetype": "text/x-python",
   "name": "python",
   "nbconvert_exporter": "python",
   "pygments_lexer": "ipython2",
   "version": "2.7.6"
  }
 },
 "nbformat": 4,
 "nbformat_minor": 5
}
